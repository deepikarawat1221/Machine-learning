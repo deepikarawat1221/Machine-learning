{
 "cells": [
  {
   "cell_type": "code",
   "execution_count": 1,
   "metadata": {},
   "outputs": [],
   "source": [
    "import bs4\n",
    "import urllib.request as url"
   ]
  },
  {
   "cell_type": "code",
   "execution_count": 2,
   "metadata": {},
   "outputs": [
    {
     "data": {
      "text/plain": [
       "<http.client.HTTPResponse at 0x26f0e26b370>"
      ]
     },
     "execution_count": 2,
     "metadata": {},
     "output_type": "execute_result"
    }
   ],
   "source": [
    "path = \"https://www.flipkart.com/search?q=mi+tv\"\n",
    "url.urlopen(path)   # HTTP Request -> HTTP Response"
   ]
  },
  {
   "cell_type": "code",
   "execution_count": 3,
   "metadata": {},
   "outputs": [],
   "source": [
    "response = url.urlopen(path)"
   ]
  },
  {
   "cell_type": "code",
   "execution_count": 4,
   "metadata": {},
   "outputs": [],
   "source": [
    "source = bs4.BeautifulSoup(response)"
   ]
  },
  {
   "cell_type": "code",
   "execution_count": 5,
   "metadata": {},
   "outputs": [
    {
     "data": {
      "text/plain": [
       "<div class=\"_4rR01T\">Mi 4A 100 cm (40 inch) Full HD LED Smart Android TV</div>"
      ]
     },
     "execution_count": 5,
     "metadata": {},
     "output_type": "execute_result"
    }
   ],
   "source": [
    "source.find('div', attrs={'class' : '_4rR01T'})"
   ]
  },
  {
   "cell_type": "code",
   "execution_count": 6,
   "metadata": {},
   "outputs": [],
   "source": [
    "title = source.find('div', attrs={'class' : '_4rR01T'})"
   ]
  },
  {
   "cell_type": "code",
   "execution_count": 7,
   "metadata": {},
   "outputs": [
    {
     "data": {
      "text/plain": [
       "'Mi 4A 100 cm (40 inch) Full HD LED Smart Android TV'"
      ]
     },
     "execution_count": 7,
     "metadata": {},
     "output_type": "execute_result"
    }
   ],
   "source": [
    "title.text"
   ]
  },
  {
   "cell_type": "code",
   "execution_count": 8,
   "metadata": {},
   "outputs": [],
   "source": [
    "price = source.find('div', class_='_30jeq3 _1_WHN1')"
   ]
  },
  {
   "cell_type": "code",
   "execution_count": 9,
   "metadata": {},
   "outputs": [
    {
     "data": {
      "text/plain": [
       "'₹23,999'"
      ]
     },
     "execution_count": 9,
     "metadata": {},
     "output_type": "execute_result"
    }
   ],
   "source": [
    "price.text"
   ]
  },
  {
   "cell_type": "code",
   "execution_count": 10,
   "metadata": {},
   "outputs": [],
   "source": [
    "titles = source.find_all('div',class_='_4rR01T')"
   ]
  },
  {
   "cell_type": "code",
   "execution_count": 12,
   "metadata": {},
   "outputs": [],
   "source": [
    "# titles"
   ]
  },
  {
   "cell_type": "code",
   "execution_count": 14,
   "metadata": {},
   "outputs": [
    {
     "name": "stdout",
     "output_type": "stream",
     "text": [
      "Mi 4A 100 cm (40 inch) Full HD LED Smart Android TV\n",
      "Mi 4X 108 cm (43 inch) Ultra HD (4K) LED Smart Android TV\n",
      "Mi 4A PRO 80 cm (32 inch) HD Ready LED Smart Android TV\n",
      "Mi 4X 125.7 cm (50 inch) Ultra HD (4K) LED Smart Android TV\n",
      "Mi 4A Horizon Edition 80 cm (32 inch) HD Ready LED Smart Android TV\n",
      "Mi 4A Pro 108 cm (43 inch) Full HD LED Smart Android TV\n",
      "Mi 4A PRO 80 cm (32 inch) HD Ready LED Smart Android TV\n",
      "Mi 4X 125.7 cm (50 inch) Ultra HD (4K) LED Smart Android TV\n",
      "Mi 4A Horizon Edition 100 cm (40 inch) Full HD LED Smart Android TV\n",
      "Mi 4X 138.8 cm (55 inch) Ultra HD (4K) LED Smart TV\n",
      "Mi Q1 138.8 cm (55 inch) QLED Ultra HD (4K) Smart Android TV\n",
      "Mi 4X 108 cm (43 inch) Ultra HD (4K) LED Smart Android TV\n",
      "Mi 4A Horizon Edition 80 cm (32 inch) HD Ready LED Smart Android TV\n",
      "Mi 4A Horizon Edition 108 cm (43 inch) Full HD LED Smart Android TV\n",
      "Mi 4X 138.8 cm (55 inch) Ultra HD (4K) LED Smart TV\n",
      "Mi 138.8 cm (55 inch) Ultra HD (4K) LED Smart Android TV\n",
      "Mi 4X Pro 138.8 cm (55 inch) Ultra HD (4K) LED Smart Android TV with Android\n",
      "Mi 4X 163.9 cm (65 inch) Ultra HD (4K) LED Smart Android TV\n",
      "Mi 4C PRO 80 cm (32 inch) HD Ready LED Smart Android TV with Android\n",
      "Mi Q1 189.34 cm (75 inch) QLED Ultra HD (4K) Smart Android TV\n",
      "Mi 4A 108 cm (43 inch) Full HD LED Smart TV\n",
      "Mi 4A Pro 123.2 cm (49 inch) Full HD LED Smart Android TV with Android\n",
      "Mi 4A 80 cm (32 inch) HD Ready LED Smart TV\n",
      "MITASHI 80.01 cm (31.5 inch) HD Ready LED Smart TV\n"
     ]
    }
   ],
   "source": [
    "for item in titles:\n",
    "    print(item.text)"
   ]
  },
  {
   "cell_type": "code",
   "execution_count": 15,
   "metadata": {},
   "outputs": [],
   "source": [
    "priceList = source.find_all('div', class_='_30jeq3 _1_WHN1')"
   ]
  },
  {
   "cell_type": "code",
   "execution_count": 17,
   "metadata": {},
   "outputs": [
    {
     "data": {
      "text/plain": [
       "(24, 24)"
      ]
     },
     "execution_count": 17,
     "metadata": {},
     "output_type": "execute_result"
    }
   ],
   "source": [
    "len(priceList), len(titles)"
   ]
  },
  {
   "cell_type": "code",
   "execution_count": 18,
   "metadata": {},
   "outputs": [
    {
     "name": "stdout",
     "output_type": "stream",
     "text": [
      "Mi 4A 100 cm (40 inch) Full HD LED Smart Android TV\n",
      "₹23,999\n",
      "********************\n",
      "Mi 4X 108 cm (43 inch) Ultra HD (4K) LED Smart Android TV\n",
      "₹29,999\n",
      "********************\n",
      "Mi 4A PRO 80 cm (32 inch) HD Ready LED Smart Android TV\n",
      "₹16,999\n",
      "********************\n",
      "Mi 4X 125.7 cm (50 inch) Ultra HD (4K) LED Smart Android TV\n",
      "₹34,999\n",
      "********************\n",
      "Mi 4A Horizon Edition 80 cm (32 inch) HD Ready LED Smart Android TV\n",
      "₹17,499\n",
      "********************\n",
      "Mi 4A Pro 108 cm (43 inch) Full HD LED Smart Android TV\n",
      "₹25,999\n",
      "********************\n",
      "Mi 4A PRO 80 cm (32 inch) HD Ready LED Smart Android TV\n",
      "₹14,999\n",
      "********************\n",
      "Mi 4X 125.7 cm (50 inch) Ultra HD (4K) LED Smart Android TV\n",
      "₹38,999\n",
      "********************\n",
      "Mi 4A Horizon Edition 100 cm (40 inch) Full HD LED Smart Android TV\n",
      "₹24,999\n",
      "********************\n",
      "Mi 4X 138.8 cm (55 inch) Ultra HD (4K) LED Smart TV\n",
      "₹44,999\n",
      "********************\n",
      "Mi Q1 138.8 cm (55 inch) QLED Ultra HD (4K) Smart Android TV\n",
      "₹59,999\n",
      "********************\n",
      "Mi 4X 108 cm (43 inch) Ultra HD (4K) LED Smart Android TV\n",
      "₹28,999\n",
      "********************\n",
      "Mi 4A Horizon Edition 80 cm (32 inch) HD Ready LED Smart Android TV\n",
      "₹15,999\n",
      "********************\n",
      "Mi 4A Horizon Edition 108 cm (43 inch) Full HD LED Smart Android TV\n",
      "₹27,999\n",
      "********************\n",
      "Mi 4X 138.8 cm (55 inch) Ultra HD (4K) LED Smart TV\n",
      "₹40,999\n",
      "********************\n",
      "Mi 138.8 cm (55 inch) Ultra HD (4K) LED Smart Android TV\n",
      "₹44,749\n",
      "********************\n",
      "Mi 4X Pro 138.8 cm (55 inch) Ultra HD (4K) LED Smart Android TV with Android\n",
      "₹39,999\n",
      "********************\n",
      "Mi 4X 163.9 cm (65 inch) Ultra HD (4K) LED Smart Android TV\n",
      "₹58,999\n",
      "********************\n",
      "Mi 4C PRO 80 cm (32 inch) HD Ready LED Smart Android TV with Android\n",
      "₹14,069\n",
      "********************\n",
      "Mi Q1 189.34 cm (75 inch) QLED Ultra HD (4K) Smart Android TV\n",
      "₹1,27,999\n",
      "********************\n",
      "Mi 4A 108 cm (43 inch) Full HD LED Smart TV\n",
      "₹21,704\n",
      "********************\n",
      "Mi 4A Pro 123.2 cm (49 inch) Full HD LED Smart Android TV with Android\n",
      "₹32,994\n",
      "********************\n",
      "Mi 4A 80 cm (32 inch) HD Ready LED Smart TV\n",
      "₹10,293\n",
      "********************\n",
      "MITASHI 80.01 cm (31.5 inch) HD Ready LED Smart TV\n",
      "₹15,400\n",
      "********************\n"
     ]
    }
   ],
   "source": [
    "for i in range(len(priceList)):\n",
    "    print(titles[i].text)\n",
    "    print(priceList[i].text)\n",
    "    print(\"*\"*20)"
   ]
  },
  {
   "cell_type": "code",
   "execution_count": null,
   "metadata": {},
   "outputs": [],
   "source": []
  }
 ],
 "metadata": {
  "kernelspec": {
   "display_name": "Python 3",
   "language": "python",
   "name": "python3"
  },
  "language_info": {
   "codemirror_mode": {
    "name": "ipython",
    "version": 3
   },
   "file_extension": ".py",
   "mimetype": "text/x-python",
   "name": "python",
   "nbconvert_exporter": "python",
   "pygments_lexer": "ipython3",
   "version": "3.8.5"
  }
 },
 "nbformat": 4,
 "nbformat_minor": 4
}
